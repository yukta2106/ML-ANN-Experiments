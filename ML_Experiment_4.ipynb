{
  "nbformat": 4,
  "nbformat_minor": 0,
  "metadata": {
    "colab": {
      "provenance": [],
      "authorship_tag": "ABX9TyPnBqjQ06tcxAfHmsmI0o4o",
      "include_colab_link": true
    },
    "kernelspec": {
      "name": "python3",
      "display_name": "Python 3"
    },
    "language_info": {
      "name": "python"
    }
  },
  "cells": [
    {
      "cell_type": "markdown",
      "metadata": {
        "id": "view-in-github",
        "colab_type": "text"
      },
      "source": [
        "<a href=\"https://colab.research.google.com/github/yukta2106/ML-ANN-Experiments/blob/main/ML_Experiment_4.ipynb\" target=\"_parent\"><img src=\"https://colab.research.google.com/assets/colab-badge.svg\" alt=\"Open In Colab\"/></a>"
      ]
    },
    {
      "cell_type": "code",
      "execution_count": null,
      "metadata": {
        "colab": {
          "base_uri": "https://localhost:8080/",
          "height": 383
        },
        "id": "vTioFi77Gplv",
        "outputId": "84012457-e1d8-4ca7-8f76-96210a4d60c7"
      },
      "outputs": [
        {
          "output_type": "error",
          "ename": "ModuleNotFoundError",
          "evalue": "No module named 'aesara'",
          "traceback": [
            "\u001b[0;31m---------------------------------------------------------------------------\u001b[0m",
            "\u001b[0;31mModuleNotFoundError\u001b[0m                       Traceback (most recent call last)",
            "\u001b[0;32m/tmp/ipython-input-2455357873.py\u001b[0m in \u001b[0;36m<cell line: 0>\u001b[0;34m()\u001b[0m\n\u001b[1;32m     12\u001b[0m \u001b[0;32mimport\u001b[0m \u001b[0mpymc\u001b[0m \u001b[0;32mas\u001b[0m \u001b[0mpm\u001b[0m\u001b[0;34m\u001b[0m\u001b[0;34m\u001b[0m\u001b[0m\n\u001b[1;32m     13\u001b[0m \u001b[0;32mimport\u001b[0m \u001b[0marviz\u001b[0m \u001b[0;32mas\u001b[0m \u001b[0maz\u001b[0m\u001b[0;34m\u001b[0m\u001b[0;34m\u001b[0m\u001b[0m\n\u001b[0;32m---> 14\u001b[0;31m \u001b[0;32mimport\u001b[0m \u001b[0maesara\u001b[0m\u001b[0;34m.\u001b[0m\u001b[0mtensor\u001b[0m \u001b[0;32mas\u001b[0m \u001b[0mat\u001b[0m\u001b[0;34m\u001b[0m\u001b[0;34m\u001b[0m\u001b[0m\n\u001b[0m\u001b[1;32m     15\u001b[0m \u001b[0;34m\u001b[0m\u001b[0m\n\u001b[1;32m     16\u001b[0m \u001b[0;32mfrom\u001b[0m \u001b[0msklearn\u001b[0m\u001b[0;34m.\u001b[0m\u001b[0mdatasets\u001b[0m \u001b[0;32mimport\u001b[0m \u001b[0mload_breast_cancer\u001b[0m\u001b[0;34m\u001b[0m\u001b[0;34m\u001b[0m\u001b[0m\n",
            "\u001b[0;31mModuleNotFoundError\u001b[0m: No module named 'aesara'",
            "",
            "\u001b[0;31m---------------------------------------------------------------------------\u001b[0;32m\nNOTE: If your import is failing due to a missing package, you can\nmanually install dependencies using either !pip or !apt.\n\nTo view examples of installing some common dependencies, click the\n\"Open Examples\" button below.\n\u001b[0;31m---------------------------------------------------------------------------\u001b[0m\n"
          ],
          "errorDetails": {
            "actions": [
              {
                "action": "open_url",
                "actionText": "Open Examples",
                "url": "/notebooks/snippets/importing_libraries.ipynb"
              }
            ]
          }
        }
      ],
      "source": [
        "# ==============================\n",
        "# 1. Install requirements\n",
        "# ==============================\n",
        "!pip install pymc arviz --quiet\n",
        "\n",
        "# ==============================\n",
        "# 2. Imports\n",
        "# ==============================\n",
        "import numpy as np\n",
        "import matplotlib.pyplot as plt\n",
        "import seaborn as sns\n",
        "import pymc as pm\n",
        "import arviz as az\n",
        "import aesara.tensor as at\n",
        "\n",
        "from sklearn.datasets import load_breast_cancer\n",
        "from sklearn.model_selection import train_test_split\n",
        "from sklearn.preprocessing import StandardScaler\n",
        "from sklearn.svm import SVC\n",
        "from sklearn.metrics import accuracy_score, roc_auc_score, roc_curve, confusion_matrix\n",
        "\n",
        "sns.set(style=\"whitegrid\")\n",
        "\n",
        "# ==============================\n",
        "# 3. Load dataset (Breast Cancer)\n",
        "# ==============================\n",
        "data = load_breast_cancer()\n",
        "X = data.data\n",
        "y = data.target\n",
        "\n",
        "# Standardize features\n",
        "scaler = StandardScaler()\n",
        "X_scaled = scaler.fit_transform(X)\n",
        "\n",
        "# Train-test split\n",
        "X_train, X_test, y_train, y_test = train_test_split(\n",
        "    X_scaled, y, test_size=0.25, random_state=42, stratify=y\n",
        ")\n",
        "\n",
        "print(\"Train shape:\", X_train.shape, \"Test shape:\", X_test.shape)\n",
        "\n",
        "# ==============================\n",
        "# 4. Bayesian Logistic Regression\n",
        "# ==============================\n",
        "with pm.Model() as blr_model:\n",
        "    # Priors\n",
        "    alpha = pm.Normal(\"alpha\", mu=0, sigma=5)\n",
        "    beta = pm.Normal(\"beta\", mu=0, sigma=5, shape=X_train.shape[1])\n",
        "\n",
        "    # Linear model\n",
        "    logits = alpha + at.dot(X_train, beta)\n",
        "\n",
        "    # Likelihood\n",
        "    y_obs = pm.Bernoulli(\"y_obs\", logit_p=logits, observed=y_train)\n",
        "\n",
        "    # Sampling\n",
        "    trace = pm.sample(1000, tune=1000, target_accept=0.9, random_seed=42, return_inferencedata=True)\n",
        "\n",
        "# Posterior summary\n",
        "print(az.summary(trace, var_names=[\"alpha\",\"beta\"], round_to=2))\n",
        "\n",
        "# ==============================\n",
        "# 5. Predictions (Bayesian LR)\n",
        "# ==============================\n",
        "posterior = trace.posterior\n",
        "alpha_samples = posterior[\"alpha\"].stack(sample=(\"chain\",\"draw\")).values\n",
        "beta_samples = posterior[\"beta\"].stack(sample=(\"chain\",\"draw\")).values\n",
        "\n",
        "n_samples = alpha_samples.shape[0]\n",
        "probs_ppc = np.zeros((n_samples, X_test.shape[0]))\n",
        "\n",
        "for i in range(n_samples):\n",
        "    logits = alpha_samples[i] + X_test.dot(beta_samples[i])\n",
        "    probs = 1/(1+np.exp(-logits))\n",
        "    probs_ppc[i] = probs\n",
        "\n",
        "mean_probs = probs_ppc.mean(axis=0)\n",
        "y_pred_bayes = (mean_probs >= 0.5).astype(int)\n",
        "\n",
        "# Metrics\n",
        "acc_bayes = accuracy_score(y_test, y_pred_bayes)\n",
        "roc_auc_bayes = roc_auc_score(y_test, mean_probs)\n",
        "print(f\"Bayesian Logistic Regression → Accuracy: {acc_bayes:.3f}, AUC: {roc_auc_bayes:.3f}\")\n",
        "\n",
        "# ==============================\n",
        "# 6. SVM Classification\n",
        "# ==============================\n",
        "svm = SVC(kernel=\"rbf\", probability=True, random_state=42)\n",
        "svm.fit(X_train, y_train)\n",
        "\n",
        "probs_svm = svm.predict_proba(X_test)[:,1]\n",
        "y_pred_svm = svm.predict(X_test)\n",
        "\n",
        "acc_svm = accuracy_score(y_test, y_pred_svm)\n",
        "roc_auc_svm = roc_auc_score(y_test, probs_svm)\n",
        "print(f\"SVM → Accuracy: {acc_svm:.3f}, AUC: {roc_auc_svm:.3f}\")\n",
        "\n",
        "# ==============================\n",
        "# 7. ROC Curves\n",
        "# ==============================\n",
        "fpr_b, tpr_b, _ = roc_curve(y_test, mean_probs)\n",
        "fpr_s, tpr_s, _ = roc_curve(y_test, probs_svm)\n",
        "\n",
        "plt.figure(figsize=(6,5))\n",
        "plt.plot(fpr_b, tpr_b, label=f\"Bayesian LR (AUC={roc_auc_bayes:.3f})\")\n",
        "plt.plot(fpr_s, tpr_s, label=f\"SVM (AUC={roc_auc_svm:.3f})\")\n",
        "plt.plot([0,1],[0,1],\"--\", color=\"gray\")\n",
        "plt.xlabel(\"False Positive Rate\")\n",
        "plt.ylabel(\"True Positive Rate\")\n",
        "plt.title(\"ROC Curve Comparison\")\n",
        "plt.legend()\n",
        "plt.show()\n",
        "\n",
        "# ==============================\n",
        "# 8. Confusion Matrices\n",
        "# ==============================\n",
        "fig, axs = plt.subplots(1,2, figsize=(10,4))\n",
        "sns.heatmap(confusion_matrix(y_test,y_pred_bayes), annot=True, fmt=\"d\", ax=axs[0], cmap=\"Blues\")\n",
        "axs[0].set_title(\"Bayesian Logistic Regression\")\n",
        "\n",
        "sns.heatmap(confusion_matrix(y_test,y_pred_svm), annot=True, fmt=\"d\", ax=axs[1], cmap=\"Greens\")\n",
        "axs[1].set_title(\"SVM\")\n",
        "\n",
        "plt.show()\n",
        "\n",
        "# ==============================\n",
        "# 9. Posterior Distributions (for interpretation)\n",
        "# ==============================\n",
        "az.plot_posterior(trace, var_names=[\"alpha\",\"beta\"], hdi_prob=0.94, max_plots=20)\n",
        "plt.show()\n"
      ]
    },
    {
      "cell_type": "code",
      "source": [
        "!pip install pymc arviz pytensor"
      ],
      "metadata": {
        "colab": {
          "base_uri": "https://localhost:8080/"
        },
        "id": "3lVss_gNJh_G",
        "outputId": "a66c58c4-c241-4d41-d8f8-3d431a08ec80"
      },
      "execution_count": null,
      "outputs": [
        {
          "output_type": "stream",
          "name": "stdout",
          "text": [
            "Requirement already satisfied: pymc in /usr/local/lib/python3.12/dist-packages (5.25.1)\n",
            "Requirement already satisfied: arviz in /usr/local/lib/python3.12/dist-packages (0.22.0)\n",
            "Requirement already satisfied: pytensor in /usr/local/lib/python3.12/dist-packages (2.31.7)\n",
            "Requirement already satisfied: cachetools>=4.2.1 in /usr/local/lib/python3.12/dist-packages (from pymc) (5.5.2)\n",
            "Requirement already satisfied: cloudpickle in /usr/local/lib/python3.12/dist-packages (from pymc) (3.1.1)\n",
            "Requirement already satisfied: numpy>=1.25.0 in /usr/local/lib/python3.12/dist-packages (from pymc) (2.0.2)\n",
            "Requirement already satisfied: pandas>=0.24.0 in /usr/local/lib/python3.12/dist-packages (from pymc) (2.2.2)\n",
            "Requirement already satisfied: rich>=13.7.1 in /usr/local/lib/python3.12/dist-packages (from pymc) (13.9.4)\n",
            "Requirement already satisfied: scipy>=1.4.1 in /usr/local/lib/python3.12/dist-packages (from pymc) (1.16.1)\n",
            "Requirement already satisfied: threadpoolctl<4.0.0,>=3.1.0 in /usr/local/lib/python3.12/dist-packages (from pymc) (3.6.0)\n",
            "Requirement already satisfied: typing-extensions>=3.7.4 in /usr/local/lib/python3.12/dist-packages (from pymc) (4.15.0)\n",
            "Requirement already satisfied: setuptools>=60.0.0 in /usr/local/lib/python3.12/dist-packages (from arviz) (75.2.0)\n",
            "Requirement already satisfied: matplotlib>=3.8 in /usr/local/lib/python3.12/dist-packages (from arviz) (3.10.0)\n",
            "Requirement already satisfied: packaging in /usr/local/lib/python3.12/dist-packages (from arviz) (25.0)\n",
            "Requirement already satisfied: xarray>=2023.7.0 in /usr/local/lib/python3.12/dist-packages (from arviz) (2025.8.0)\n",
            "Requirement already satisfied: h5netcdf>=1.0.2 in /usr/local/lib/python3.12/dist-packages (from arviz) (1.6.4)\n",
            "Requirement already satisfied: xarray-einstats>=0.3 in /usr/local/lib/python3.12/dist-packages (from arviz) (0.9.1)\n",
            "Requirement already satisfied: filelock>=3.15 in /usr/local/lib/python3.12/dist-packages (from pytensor) (3.19.1)\n",
            "Requirement already satisfied: etuples in /usr/local/lib/python3.12/dist-packages (from pytensor) (0.3.10)\n",
            "Requirement already satisfied: logical-unification in /usr/local/lib/python3.12/dist-packages (from pytensor) (0.4.6)\n",
            "Requirement already satisfied: miniKanren in /usr/local/lib/python3.12/dist-packages (from pytensor) (1.0.5)\n",
            "Requirement already satisfied: cons in /usr/local/lib/python3.12/dist-packages (from pytensor) (0.4.7)\n",
            "Requirement already satisfied: h5py in /usr/local/lib/python3.12/dist-packages (from h5netcdf>=1.0.2->arviz) (3.14.0)\n",
            "Requirement already satisfied: contourpy>=1.0.1 in /usr/local/lib/python3.12/dist-packages (from matplotlib>=3.8->arviz) (1.3.3)\n",
            "Requirement already satisfied: cycler>=0.10 in /usr/local/lib/python3.12/dist-packages (from matplotlib>=3.8->arviz) (0.12.1)\n",
            "Requirement already satisfied: fonttools>=4.22.0 in /usr/local/lib/python3.12/dist-packages (from matplotlib>=3.8->arviz) (4.59.2)\n",
            "Requirement already satisfied: kiwisolver>=1.3.1 in /usr/local/lib/python3.12/dist-packages (from matplotlib>=3.8->arviz) (1.4.9)\n",
            "Requirement already satisfied: pillow>=8 in /usr/local/lib/python3.12/dist-packages (from matplotlib>=3.8->arviz) (11.3.0)\n",
            "Requirement already satisfied: pyparsing>=2.3.1 in /usr/local/lib/python3.12/dist-packages (from matplotlib>=3.8->arviz) (3.2.3)\n",
            "Requirement already satisfied: python-dateutil>=2.7 in /usr/local/lib/python3.12/dist-packages (from matplotlib>=3.8->arviz) (2.9.0.post0)\n",
            "Requirement already satisfied: pytz>=2020.1 in /usr/local/lib/python3.12/dist-packages (from pandas>=0.24.0->pymc) (2025.2)\n",
            "Requirement already satisfied: tzdata>=2022.7 in /usr/local/lib/python3.12/dist-packages (from pandas>=0.24.0->pymc) (2025.2)\n",
            "Requirement already satisfied: markdown-it-py>=2.2.0 in /usr/local/lib/python3.12/dist-packages (from rich>=13.7.1->pymc) (4.0.0)\n",
            "Requirement already satisfied: pygments<3.0.0,>=2.13.0 in /usr/local/lib/python3.12/dist-packages (from rich>=13.7.1->pymc) (2.19.2)\n",
            "Requirement already satisfied: toolz in /usr/local/lib/python3.12/dist-packages (from logical-unification->pytensor) (0.12.1)\n",
            "Requirement already satisfied: multipledispatch in /usr/local/lib/python3.12/dist-packages (from logical-unification->pytensor) (1.0.0)\n",
            "Requirement already satisfied: mdurl~=0.1 in /usr/local/lib/python3.12/dist-packages (from markdown-it-py>=2.2.0->rich>=13.7.1->pymc) (0.1.2)\n",
            "Requirement already satisfied: six>=1.5 in /usr/local/lib/python3.12/dist-packages (from python-dateutil>=2.7->matplotlib>=3.8->arviz) (1.17.0)\n"
          ]
        }
      ]
    },
    {
      "cell_type": "code",
      "source": [
        "import pytensor.tensor as pt"
      ],
      "metadata": {
        "id": "7PWr_UlJJwLd"
      },
      "execution_count": null,
      "outputs": []
    },
    {
      "cell_type": "code",
      "source": [
        "# Install dependencies\n",
        "!pip install pymc arviz pytensor scikit-learn matplotlib seaborn\n",
        "\n",
        "# Imports\n",
        "import numpy as np\n",
        "import matplotlib.pyplot as plt\n",
        "import seaborn as sns\n",
        "\n",
        "import pymc as pm\n",
        "import arviz as az\n",
        "import pytensor.tensor as pt\n",
        "\n",
        "from sklearn.datasets import load_breast_cancer\n",
        "from sklearn.preprocessing import StandardScaler\n",
        "from sklearn.svm import SVC\n",
        "from sklearn.metrics import accuracy_score, classification_report, confusion_matrix\n",
        "from sklearn.model_selection import train_test_split\n",
        "\n",
        "# Load dataset\n",
        "data = load_breast_cancer()\n",
        "X = data.data\n",
        "y = data.target\n",
        "\n",
        "# Use only first 10 features for simplicity\n",
        "X = X[:, :10]\n",
        "\n",
        "# Train-test split\n",
        "X_train, X_test, y_train, y_test = train_test_split(\n",
        "    X, y, test_size=0.3, random_state=42, stratify=y\n",
        ")\n",
        "\n",
        "# Standardize\n",
        "scaler = StandardScaler()\n",
        "X_train = scaler.fit_transform(X_train)\n",
        "X_test = scaler.transform(X_test)\n",
        "\n",
        "# -----------------------\n",
        "# Bayesian Logistic Regression\n",
        "# -----------------------\n",
        "with pm.Model() as logistic_model:\n",
        "    # Priors\n",
        "    alpha = pm.Normal(\"alpha\", mu=0, sigma=10)\n",
        "    beta = pm.Normal(\"beta\", mu=0, sigma=10, shape=X_train.shape[1])\n",
        "\n",
        "    # Linear predictor\n",
        "    mu = alpha + pm.math.dot(X_train, beta)\n",
        "    p = pm.Deterministic(\"p\", pm.math.sigmoid(mu))\n",
        "\n",
        "    # Likelihood\n",
        "    y_obs = pm.Bernoulli(\"y_obs\", p=p, observed=y_train)\n",
        "\n",
        "    # Sampling\n",
        "    trace = pm.sample(1000, tune=1000, target_accept=0.9, random_seed=42)\n",
        "\n",
        "# Posterior predictive check\n",
        "with logistic_model:\n",
        "    ppc = pm.sample_posterior_predictive(trace, random_seed=42)\n",
        "\n",
        "# Predictions\n",
        "y_pred_bayes = np.round(ppc.posterior_predictive[\"y_obs\"].mean(dim=(\"chain\", \"draw\")).values)\n",
        "\n",
        "print(\"\\n--- Bayesian Logistic Regression ---\")\n",
        "print(\"Accuracy:\", accuracy_score(y_train, y_pred_bayes))\n",
        "print(classification_report(y_train, y_pred_bayes))\n",
        "\n",
        "# Confusion Matrix\n",
        "sns.heatmap(confusion_matrix(y_train, y_pred_bayes), annot=True, fmt=\"d\", cmap=\"Blues\")\n",
        "plt.title(\"Bayesian Logistic Regression - Confusion Matrix (Train)\")\n",
        "plt.show()\n",
        "\n",
        "# -----------------------\n",
        "# Support Vector Machine (SVM)\n",
        "# -----------------------\n",
        "svm = SVC(kernel=\"linear\", random_state=42)\n",
        "svm.fit(X_train, y_train)\n",
        "y_pred_svm = svm.predict(X_test)\n",
        "\n",
        "print(\"\\n--- Support Vector Machine (SVM) ---\")\n",
        "print(\"Accuracy:\", accuracy_score(y_test, y_pred_svm))\n",
        "print(classification_report(y_test, y_pred_svm))\n",
        "\n",
        "# Confusion Matrix\n",
        "sns.heatmap(confusion_matrix(y_test, y_pred_svm), annot=True, fmt=\"d\", cmap=\"Greens\")\n",
        "plt.title(\"SVM - Confusion Matrix (Test)\")\n",
        "plt.show()\n"
      ],
      "metadata": {
        "colab": {
          "base_uri": "https://localhost:8080/",
          "height": 1000
        },
        "id": "B1R8nl2hKGFl",
        "outputId": "def1442a-5426-419f-cd7c-b07c4f0a4541"
      },
      "execution_count": null,
      "outputs": [
        {
          "output_type": "display_data",
          "data": {
            "text/plain": [
              "Sampling ... \u001b[32m━━━━━━━━━━━━━━━━━━━━━━━━━━━━━━━━━━━━━━━━\u001b[0m \u001b[35m100%\u001b[0m 0:00:00 / 0:00:00\n"
            ],
            "text/html": [
              "<pre style=\"white-space:pre;overflow-x:auto;line-height:normal;font-family:Menlo,'DejaVu Sans Mono',consolas,'Courier New',monospace\">Sampling ... <span style=\"color: #008000; text-decoration-color: #008000\">━━━━━━━━━━━━━━━━━━━━━━━━━━━━━━━━━━━━━━━━</span> <span style=\"color: #800080; text-decoration-color: #800080\">100%</span> 0:00:00 / 0:00:00\n",
              "</pre>\n"
            ]
          },
          "metadata": {}
        },
        {
          "output_type": "display_data",
          "data": {
            "text/plain": [],
            "text/html": [
              "<pre style=\"white-space:pre;overflow-x:auto;line-height:normal;font-family:Menlo,'DejaVu Sans Mono',consolas,'Courier New',monospace\"></pre>\n"
            ]
          },
          "metadata": {}
        },
        {
          "output_type": "stream",
          "name": "stdout",
          "text": [
            "\n",
            "--- Bayesian Logistic Regression ---\n",
            "Accuracy: 0.9547738693467337\n",
            "              precision    recall  f1-score   support\n",
            "\n",
            "           0       0.96      0.92      0.94       148\n",
            "           1       0.95      0.98      0.96       250\n",
            "\n",
            "    accuracy                           0.95       398\n",
            "   macro avg       0.96      0.95      0.95       398\n",
            "weighted avg       0.95      0.95      0.95       398\n",
            "\n"
          ]
        },
        {
          "output_type": "display_data",
          "data": {
            "text/plain": [
              "<Figure size 640x480 with 2 Axes>"
            ],
            "image/png": "[encoded data removed]"
          },
          "metadata": {}
        },
        {
          "output_type": "stream",
          "name": "stdout",
          "text": [
            "\n",
            "--- Support Vector Machine (SVM) ---\n",
            "Accuracy: 0.9181286549707602\n",
            "              precision    recall  f1-score   support\n",
            "\n",
            "           0       0.86      0.94      0.90        64\n",
            "           1       0.96      0.91      0.93       107\n",
            "\n",
            "    accuracy                           0.92       171\n",
            "   macro avg       0.91      0.92      0.91       171\n",
            "weighted avg       0.92      0.92      0.92       171\n",
            "\n"
          ]
        },
        {
          "output_type": "display_data",
          "data": {
            "text/plain": [
              "<Figure size 640x480 with 2 Axes>"
            ],
            "image/png": "[encoded data removed]"
          },
          "metadata": {}
        }
      ]
    }
  ]
}